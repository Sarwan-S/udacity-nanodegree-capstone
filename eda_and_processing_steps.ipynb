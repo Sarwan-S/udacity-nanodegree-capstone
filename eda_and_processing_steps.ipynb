{
 "cells": [
  {
   "cell_type": "markdown",
   "metadata": {
    "editable": true
   },
   "source": [
    "# Data Lake for Liquor Sales in Iowa, US\n",
    "### Data Engineering Capstone Project\n",
    "\n",
    "### Exploratory Data Analysis on Staging Files\n",
    "\n",
    "* **All data used in this notebook is a sample of the full dataset. The full dataset will be placed on an S3 bucket as it is huge (~9 million rows). The sample datasets are found in the data subfolder in this project**"
   ]
  },
  {
   "cell_type": "code",
   "execution_count": 1,
   "metadata": {
    "editable": true
   },
   "outputs": [],
   "source": [
    "# Do all imports and installs here\n",
    "import pandas as pd\n",
    "import glob\n",
    "from pyspark.sql import SparkSession\n",
    "from pyspark.sql.types import *\n",
    "import pyspark.sql.functions as func"
   ]
  },
  {
   "cell_type": "markdown",
   "metadata": {
    "editable": true
   },
   "source": [
    "### 1. Liquor Sales Dataset\n",
    "\n",
    "* Location of sample data: /data/liquor_sales/Iowa_Liquor_Sales_sample.csv\n",
    "* Location of full data: S3 bucket"
   ]
  },
  {
   "cell_type": "code",
   "execution_count": 127,
   "metadata": {
    "editable": true
   },
   "outputs": [],
   "source": [
    "# Read in the data here\n",
    "df = pd.read_csv(\"data/liquor_sales/Iowa_Liquor_Sales_sample.csv\")"
   ]
  },
  {
   "cell_type": "markdown",
   "metadata": {
    "editable": true
   },
   "source": [
    "#### Shape of dataset"
   ]
  },
  {
   "cell_type": "code",
   "execution_count": 123,
   "metadata": {
    "editable": true
   },
   "outputs": [
    {
     "data": {
      "text/plain": [
       "(318098, 24)"
      ]
     },
     "execution_count": 123,
     "metadata": {},
     "output_type": "execute_result"
    }
   ],
   "source": [
    "df.shape"
   ]
  },
  {
   "cell_type": "markdown",
   "metadata": {
    "editable": true
   },
   "source": [
    "#### Columns and Data Types\n",
    "\n",
    "Findings: Date column needs to be parsed as Date"
   ]
  },
  {
   "cell_type": "code",
   "execution_count": 124,
   "metadata": {
    "editable": true
   },
   "outputs": [
    {
     "data": {
      "text/plain": [
       "Invoice/Item Number       object\n",
       "Date                      object\n",
       "Store Number               int64\n",
       "Store Name                object\n",
       "Address                   object\n",
       "City                      object\n",
       "Zip Code                 float64\n",
       "Store Location            object\n",
       "County Number            float64\n",
       "County                    object\n",
       "Category                 float64\n",
       "Category Name             object\n",
       "Vendor Number            float64\n",
       "Vendor Name               object\n",
       "Item Number                int64\n",
       "Item Description          object\n",
       "Pack                       int64\n",
       "Bottle Volume (ml)         int64\n",
       "State Bottle Cost        float64\n",
       "State Bottle Retail      float64\n",
       "Bottles Sold               int64\n",
       "Sale (Dollars)           float64\n",
       "Volume Sold (Liters)     float64\n",
       "Volume Sold (Gallons)    float64\n",
       "dtype: object"
      ]
     },
     "execution_count": 124,
     "metadata": {},
     "output_type": "execute_result"
    }
   ],
   "source": [
    "df.dtypes"
   ]
  },
  {
   "cell_type": "markdown",
   "metadata": {
    "editable": true
   },
   "source": [
    "#### Sample Data\n",
    "\n",
    "Findings:\n",
    "1. Store Location is in the format (longitude, latitude); needs to be split\n",
    "2. Column names need to be transformed into lowercase and with spaces replaced by _"
   ]
  },
  {
   "cell_type": "code",
   "execution_count": 125,
   "metadata": {
    "editable": true
   },
   "outputs": [
    {
     "data": {
      "text/html": [
       "<div>\n",
       "<style scoped>\n",
       "    .dataframe tbody tr th:only-of-type {\n",
       "        vertical-align: middle;\n",
       "    }\n",
       "\n",
       "    .dataframe tbody tr th {\n",
       "        vertical-align: top;\n",
       "    }\n",
       "\n",
       "    .dataframe thead th {\n",
       "        text-align: right;\n",
       "    }\n",
       "</style>\n",
       "<table border=\"1\" class=\"dataframe\">\n",
       "  <thead>\n",
       "    <tr style=\"text-align: right;\">\n",
       "      <th></th>\n",
       "      <th>Invoice/Item Number</th>\n",
       "      <th>Date</th>\n",
       "      <th>Store Number</th>\n",
       "      <th>Store Name</th>\n",
       "      <th>Address</th>\n",
       "      <th>City</th>\n",
       "      <th>Zip Code</th>\n",
       "      <th>Store Location</th>\n",
       "      <th>County Number</th>\n",
       "      <th>County</th>\n",
       "      <th>...</th>\n",
       "      <th>Item Number</th>\n",
       "      <th>Item Description</th>\n",
       "      <th>Pack</th>\n",
       "      <th>Bottle Volume (ml)</th>\n",
       "      <th>State Bottle Cost</th>\n",
       "      <th>State Bottle Retail</th>\n",
       "      <th>Bottles Sold</th>\n",
       "      <th>Sale (Dollars)</th>\n",
       "      <th>Volume Sold (Liters)</th>\n",
       "      <th>Volume Sold (Gallons)</th>\n",
       "    </tr>\n",
       "  </thead>\n",
       "  <tbody>\n",
       "    <tr>\n",
       "      <th>0</th>\n",
       "      <td>INV-23056100024</td>\n",
       "      <td>2019-11-06</td>\n",
       "      <td>2500</td>\n",
       "      <td>Hy-Vee Food Store #1 / Ames</td>\n",
       "      <td>3800 W Lincoln Way</td>\n",
       "      <td>Ames</td>\n",
       "      <td>50010.0</td>\n",
       "      <td>NaN</td>\n",
       "      <td>85.0</td>\n",
       "      <td>STORY</td>\n",
       "      <td>...</td>\n",
       "      <td>11773</td>\n",
       "      <td>Black Velvet</td>\n",
       "      <td>48</td>\n",
       "      <td>200</td>\n",
       "      <td>1.56</td>\n",
       "      <td>2.34</td>\n",
       "      <td>6</td>\n",
       "      <td>14.04</td>\n",
       "      <td>1.2</td>\n",
       "      <td>0.31</td>\n",
       "    </tr>\n",
       "    <tr>\n",
       "      <th>1</th>\n",
       "      <td>INV-22949500007</td>\n",
       "      <td>2019-11-01</td>\n",
       "      <td>5694</td>\n",
       "      <td>Flashmart #104</td>\n",
       "      <td>1704 S. Story Street</td>\n",
       "      <td>Boone</td>\n",
       "      <td>50036.0</td>\n",
       "      <td>POINT (-93.879597 42.037102)</td>\n",
       "      <td>8.0</td>\n",
       "      <td>BOONE</td>\n",
       "      <td>...</td>\n",
       "      <td>48105</td>\n",
       "      <td>Hennessy VS</td>\n",
       "      <td>12</td>\n",
       "      <td>375</td>\n",
       "      <td>10.74</td>\n",
       "      <td>16.11</td>\n",
       "      <td>4</td>\n",
       "      <td>64.44</td>\n",
       "      <td>1.5</td>\n",
       "      <td>0.39</td>\n",
       "    </tr>\n",
       "    <tr>\n",
       "      <th>2</th>\n",
       "      <td>INV-22961300004</td>\n",
       "      <td>2019-11-01</td>\n",
       "      <td>5072</td>\n",
       "      <td>Pep Stop</td>\n",
       "      <td>901, E Washington St</td>\n",
       "      <td>Mount Pleasant</td>\n",
       "      <td>52641.0</td>\n",
       "      <td>POINT (-91.541171 40.964231)</td>\n",
       "      <td>44.0</td>\n",
       "      <td>HENRY</td>\n",
       "      <td>...</td>\n",
       "      <td>87643</td>\n",
       "      <td>Familia Camarena Silver</td>\n",
       "      <td>12</td>\n",
       "      <td>750</td>\n",
       "      <td>12.50</td>\n",
       "      <td>18.75</td>\n",
       "      <td>12</td>\n",
       "      <td>225.00</td>\n",
       "      <td>9.0</td>\n",
       "      <td>2.37</td>\n",
       "    </tr>\n",
       "    <tr>\n",
       "      <th>3</th>\n",
       "      <td>INV-22969800183</td>\n",
       "      <td>2019-11-01</td>\n",
       "      <td>2560</td>\n",
       "      <td>Hy-Vee Food Store / Marion</td>\n",
       "      <td>3600 Business Hwy 151 East</td>\n",
       "      <td>Marion</td>\n",
       "      <td>52302.0</td>\n",
       "      <td>NaN</td>\n",
       "      <td>57.0</td>\n",
       "      <td>LINN</td>\n",
       "      <td>...</td>\n",
       "      <td>74740</td>\n",
       "      <td>Slow and Low</td>\n",
       "      <td>6</td>\n",
       "      <td>750</td>\n",
       "      <td>12.17</td>\n",
       "      <td>18.26</td>\n",
       "      <td>6</td>\n",
       "      <td>118.56</td>\n",
       "      <td>4.5</td>\n",
       "      <td>1.18</td>\n",
       "    </tr>\n",
       "    <tr>\n",
       "      <th>4</th>\n",
       "      <td>INV-22975100014</td>\n",
       "      <td>2019-11-01</td>\n",
       "      <td>2524</td>\n",
       "      <td>Hy-Vee Food Store / Dubuque</td>\n",
       "      <td>3500 Dodge St</td>\n",
       "      <td>Dubuque</td>\n",
       "      <td>52001.0</td>\n",
       "      <td>NaN</td>\n",
       "      <td>31.0</td>\n",
       "      <td>DUBUQUE</td>\n",
       "      <td>...</td>\n",
       "      <td>11299</td>\n",
       "      <td>Crown Royal</td>\n",
       "      <td>44</td>\n",
       "      <td>200</td>\n",
       "      <td>5.00</td>\n",
       "      <td>7.50</td>\n",
       "      <td>6</td>\n",
       "      <td>45.00</td>\n",
       "      <td>1.2</td>\n",
       "      <td>0.31</td>\n",
       "    </tr>\n",
       "  </tbody>\n",
       "</table>\n",
       "<p>5 rows × 24 columns</p>\n",
       "</div>"
      ],
      "text/plain": [
       "  Invoice/Item Number        Date  Store Number                   Store Name  \\\n",
       "0     INV-23056100024  2019-11-06          2500  Hy-Vee Food Store #1 / Ames   \n",
       "1     INV-22949500007  2019-11-01          5694               Flashmart #104   \n",
       "2     INV-22961300004  2019-11-01          5072                     Pep Stop   \n",
       "3     INV-22969800183  2019-11-01          2560   Hy-Vee Food Store / Marion   \n",
       "4     INV-22975100014  2019-11-01          2524  Hy-Vee Food Store / Dubuque   \n",
       "\n",
       "                      Address            City  Zip Code  \\\n",
       "0          3800 W Lincoln Way            Ames   50010.0   \n",
       "1        1704 S. Story Street           Boone   50036.0   \n",
       "2        901, E Washington St  Mount Pleasant   52641.0   \n",
       "3  3600 Business Hwy 151 East          Marion   52302.0   \n",
       "4               3500 Dodge St         Dubuque   52001.0   \n",
       "\n",
       "                 Store Location  County Number   County  \\\n",
       "0                           NaN           85.0    STORY   \n",
       "1  POINT (-93.879597 42.037102)            8.0    BOONE   \n",
       "2  POINT (-91.541171 40.964231)           44.0    HENRY   \n",
       "3                           NaN           57.0     LINN   \n",
       "4                           NaN           31.0  DUBUQUE   \n",
       "\n",
       "           ...            Item Number         Item Description  Pack  \\\n",
       "0          ...                  11773             Black Velvet    48   \n",
       "1          ...                  48105              Hennessy VS    12   \n",
       "2          ...                  87643  Familia Camarena Silver    12   \n",
       "3          ...                  74740             Slow and Low     6   \n",
       "4          ...                  11299              Crown Royal    44   \n",
       "\n",
       "  Bottle Volume (ml)  State Bottle Cost State Bottle Retail  Bottles Sold  \\\n",
       "0                200               1.56                2.34             6   \n",
       "1                375              10.74               16.11             4   \n",
       "2                750              12.50               18.75            12   \n",
       "3                750              12.17               18.26             6   \n",
       "4                200               5.00                7.50             6   \n",
       "\n",
       "   Sale (Dollars)  Volume Sold (Liters)  Volume Sold (Gallons)  \n",
       "0           14.04                   1.2                   0.31  \n",
       "1           64.44                   1.5                   0.39  \n",
       "2          225.00                   9.0                   2.37  \n",
       "3          118.56                   4.5                   1.18  \n",
       "4           45.00                   1.2                   0.31  \n",
       "\n",
       "[5 rows x 24 columns]"
      ]
     },
     "execution_count": 125,
     "metadata": {},
     "output_type": "execute_result"
    }
   ],
   "source": [
    "df.head()"
   ]
  },
  {
   "cell_type": "markdown",
   "metadata": {
    "editable": true
   },
   "source": [
    "#### Check for Missing Values in Important Columns\n",
    "\n",
    "Findings:\n",
    "1. Store Location has many null values; can be left as it is\n",
    "2. Category Name has null values; can be left as it is"
   ]
  },
  {
   "cell_type": "code",
   "execution_count": 7,
   "metadata": {
    "editable": true
   },
   "outputs": [
    {
     "name": "stdout",
     "output_type": "stream",
     "text": [
      "<class 'pandas.core.frame.DataFrame'>\n",
      "RangeIndex: 318098 entries, 0 to 318097\n",
      "Data columns (total 24 columns):\n",
      "Invoice/Item Number      318098 non-null object\n",
      "Date                     318098 non-null object\n",
      "Store Number             318098 non-null int64\n",
      "Store Name               318098 non-null object\n",
      "Address                  318047 non-null object\n",
      "City                     318047 non-null object\n",
      "Zip Code                 318047 non-null float64\n",
      "Store Location           289993 non-null object\n",
      "County Number            318047 non-null float64\n",
      "County                   318047 non-null object\n",
      "Category                 317607 non-null float64\n",
      "Category Name            317607 non-null object\n",
      "Vendor Number            318097 non-null float64\n",
      "Vendor Name              318097 non-null object\n",
      "Item Number              318098 non-null int64\n",
      "Item Description         318098 non-null object\n",
      "Pack                     318098 non-null int64\n",
      "Bottle Volume (ml)       318098 non-null int64\n",
      "State Bottle Cost        318098 non-null float64\n",
      "State Bottle Retail      318098 non-null float64\n",
      "Bottles Sold             318098 non-null int64\n",
      "Sale (Dollars)           318098 non-null float64\n",
      "Volume Sold (Liters)     318098 non-null float64\n",
      "Volume Sold (Gallons)    318098 non-null float64\n",
      "dtypes: float64(9), int64(5), object(10)\n",
      "memory usage: 58.2+ MB\n"
     ]
    }
   ],
   "source": [
    "df.info(null_counts = True)"
   ]
  },
  {
   "cell_type": "markdown",
   "metadata": {
    "editable": true
   },
   "source": [
    "#### Statistics on Numeric Columns\n",
    "\n",
    "Findings:\n",
    "1. Data looks fairly clean\n",
    "2. No outliers in the fields of important metrics (e.g sale)"
   ]
  },
  {
   "cell_type": "code",
   "execution_count": 8,
   "metadata": {
    "editable": true
   },
   "outputs": [
    {
     "data": {
      "text/html": [
       "<div>\n",
       "<style scoped>\n",
       "    .dataframe tbody tr th:only-of-type {\n",
       "        vertical-align: middle;\n",
       "    }\n",
       "\n",
       "    .dataframe tbody tr th {\n",
       "        vertical-align: top;\n",
       "    }\n",
       "\n",
       "    .dataframe thead th {\n",
       "        text-align: right;\n",
       "    }\n",
       "</style>\n",
       "<table border=\"1\" class=\"dataframe\">\n",
       "  <thead>\n",
       "    <tr style=\"text-align: right;\">\n",
       "      <th></th>\n",
       "      <th>Store Number</th>\n",
       "      <th>Zip Code</th>\n",
       "      <th>County Number</th>\n",
       "      <th>Category</th>\n",
       "      <th>Vendor Number</th>\n",
       "      <th>Item Number</th>\n",
       "      <th>Pack</th>\n",
       "      <th>Bottle Volume (ml)</th>\n",
       "      <th>State Bottle Cost</th>\n",
       "      <th>State Bottle Retail</th>\n",
       "      <th>Bottles Sold</th>\n",
       "      <th>Sale (Dollars)</th>\n",
       "      <th>Volume Sold (Liters)</th>\n",
       "      <th>Volume Sold (Gallons)</th>\n",
       "    </tr>\n",
       "  </thead>\n",
       "  <tbody>\n",
       "    <tr>\n",
       "      <th>count</th>\n",
       "      <td>318098.000000</td>\n",
       "      <td>318047.000000</td>\n",
       "      <td>318047.000000</td>\n",
       "      <td>3.176070e+05</td>\n",
       "      <td>318097.000000</td>\n",
       "      <td>318098.000000</td>\n",
       "      <td>318098.000000</td>\n",
       "      <td>318098.000000</td>\n",
       "      <td>318098.000000</td>\n",
       "      <td>318098.000000</td>\n",
       "      <td>318098.000000</td>\n",
       "      <td>318098.000000</td>\n",
       "      <td>318098.000000</td>\n",
       "      <td>318098.000000</td>\n",
       "    </tr>\n",
       "    <tr>\n",
       "      <th>mean</th>\n",
       "      <td>3896.399349</td>\n",
       "      <td>51260.268363</td>\n",
       "      <td>57.415608</td>\n",
       "      <td>1.062031e+06</td>\n",
       "      <td>267.637412</td>\n",
       "      <td>49796.019758</td>\n",
       "      <td>12.340936</td>\n",
       "      <td>831.715723</td>\n",
       "      <td>10.530390</td>\n",
       "      <td>15.799934</td>\n",
       "      <td>11.663490</td>\n",
       "      <td>154.393225</td>\n",
       "      <td>9.367886</td>\n",
       "      <td>2.469250</td>\n",
       "    </tr>\n",
       "    <tr>\n",
       "      <th>std</th>\n",
       "      <td>1147.152595</td>\n",
       "      <td>986.983704</td>\n",
       "      <td>27.335788</td>\n",
       "      <td>1.227404e+05</td>\n",
       "      <td>138.049481</td>\n",
       "      <td>75652.189680</td>\n",
       "      <td>8.078051</td>\n",
       "      <td>520.280153</td>\n",
       "      <td>9.325243</td>\n",
       "      <td>14.001589</td>\n",
       "      <td>31.985178</td>\n",
       "      <td>502.892750</td>\n",
       "      <td>38.977110</td>\n",
       "      <td>10.296882</td>\n",
       "    </tr>\n",
       "    <tr>\n",
       "      <th>min</th>\n",
       "      <td>2106.000000</td>\n",
       "      <td>50002.000000</td>\n",
       "      <td>1.000000</td>\n",
       "      <td>1.011100e+06</td>\n",
       "      <td>35.000000</td>\n",
       "      <td>159.000000</td>\n",
       "      <td>1.000000</td>\n",
       "      <td>20.000000</td>\n",
       "      <td>0.890000</td>\n",
       "      <td>1.340000</td>\n",
       "      <td>1.000000</td>\n",
       "      <td>1.340000</td>\n",
       "      <td>0.020000</td>\n",
       "      <td>0.000000</td>\n",
       "    </tr>\n",
       "    <tr>\n",
       "      <th>25%</th>\n",
       "      <td>2624.000000</td>\n",
       "      <td>50316.000000</td>\n",
       "      <td>32.000000</td>\n",
       "      <td>1.012100e+06</td>\n",
       "      <td>130.000000</td>\n",
       "      <td>26823.000000</td>\n",
       "      <td>6.000000</td>\n",
       "      <td>375.000000</td>\n",
       "      <td>5.540000</td>\n",
       "      <td>8.310000</td>\n",
       "      <td>3.000000</td>\n",
       "      <td>35.500000</td>\n",
       "      <td>1.500000</td>\n",
       "      <td>0.390000</td>\n",
       "    </tr>\n",
       "    <tr>\n",
       "      <th>50%</th>\n",
       "      <td>3934.000000</td>\n",
       "      <td>51101.000000</td>\n",
       "      <td>62.000000</td>\n",
       "      <td>1.031200e+06</td>\n",
       "      <td>260.000000</td>\n",
       "      <td>38177.000000</td>\n",
       "      <td>12.000000</td>\n",
       "      <td>750.000000</td>\n",
       "      <td>8.260000</td>\n",
       "      <td>12.380000</td>\n",
       "      <td>6.000000</td>\n",
       "      <td>78.660000</td>\n",
       "      <td>4.500000</td>\n",
       "      <td>1.180000</td>\n",
       "    </tr>\n",
       "    <tr>\n",
       "      <th>75%</th>\n",
       "      <td>4969.000000</td>\n",
       "      <td>52302.000000</td>\n",
       "      <td>77.000000</td>\n",
       "      <td>1.062500e+06</td>\n",
       "      <td>389.000000</td>\n",
       "      <td>64866.000000</td>\n",
       "      <td>12.000000</td>\n",
       "      <td>1000.000000</td>\n",
       "      <td>13.000000</td>\n",
       "      <td>19.500000</td>\n",
       "      <td>12.000000</td>\n",
       "      <td>150.960000</td>\n",
       "      <td>10.500000</td>\n",
       "      <td>2.770000</td>\n",
       "    </tr>\n",
       "    <tr>\n",
       "      <th>max</th>\n",
       "      <td>9042.000000</td>\n",
       "      <td>57222.000000</td>\n",
       "      <td>99.000000</td>\n",
       "      <td>1.901200e+06</td>\n",
       "      <td>978.000000</td>\n",
       "      <td>999292.000000</td>\n",
       "      <td>48.000000</td>\n",
       "      <td>6000.000000</td>\n",
       "      <td>1749.120000</td>\n",
       "      <td>2623.680000</td>\n",
       "      <td>3780.000000</td>\n",
       "      <td>43885.800000</td>\n",
       "      <td>6615.000000</td>\n",
       "      <td>1747.490000</td>\n",
       "    </tr>\n",
       "  </tbody>\n",
       "</table>\n",
       "</div>"
      ],
      "text/plain": [
       "        Store Number       Zip Code  County Number      Category  \\\n",
       "count  318098.000000  318047.000000  318047.000000  3.176070e+05   \n",
       "mean     3896.399349   51260.268363      57.415608  1.062031e+06   \n",
       "std      1147.152595     986.983704      27.335788  1.227404e+05   \n",
       "min      2106.000000   50002.000000       1.000000  1.011100e+06   \n",
       "25%      2624.000000   50316.000000      32.000000  1.012100e+06   \n",
       "50%      3934.000000   51101.000000      62.000000  1.031200e+06   \n",
       "75%      4969.000000   52302.000000      77.000000  1.062500e+06   \n",
       "max      9042.000000   57222.000000      99.000000  1.901200e+06   \n",
       "\n",
       "       Vendor Number    Item Number           Pack  Bottle Volume (ml)  \\\n",
       "count  318097.000000  318098.000000  318098.000000       318098.000000   \n",
       "mean      267.637412   49796.019758      12.340936          831.715723   \n",
       "std       138.049481   75652.189680       8.078051          520.280153   \n",
       "min        35.000000     159.000000       1.000000           20.000000   \n",
       "25%       130.000000   26823.000000       6.000000          375.000000   \n",
       "50%       260.000000   38177.000000      12.000000          750.000000   \n",
       "75%       389.000000   64866.000000      12.000000         1000.000000   \n",
       "max       978.000000  999292.000000      48.000000         6000.000000   \n",
       "\n",
       "       State Bottle Cost  State Bottle Retail   Bottles Sold  Sale (Dollars)  \\\n",
       "count      318098.000000        318098.000000  318098.000000   318098.000000   \n",
       "mean           10.530390            15.799934      11.663490      154.393225   \n",
       "std             9.325243            14.001589      31.985178      502.892750   \n",
       "min             0.890000             1.340000       1.000000        1.340000   \n",
       "25%             5.540000             8.310000       3.000000       35.500000   \n",
       "50%             8.260000            12.380000       6.000000       78.660000   \n",
       "75%            13.000000            19.500000      12.000000      150.960000   \n",
       "max          1749.120000          2623.680000    3780.000000    43885.800000   \n",
       "\n",
       "       Volume Sold (Liters)  Volume Sold (Gallons)  \n",
       "count         318098.000000          318098.000000  \n",
       "mean               9.367886               2.469250  \n",
       "std               38.977110              10.296882  \n",
       "min                0.020000               0.000000  \n",
       "25%                1.500000               0.390000  \n",
       "50%                4.500000               1.180000  \n",
       "75%               10.500000               2.770000  \n",
       "max             6615.000000            1747.490000  "
      ]
     },
     "execution_count": 8,
     "metadata": {},
     "output_type": "execute_result"
    }
   ],
   "source": [
    "df.describe()"
   ]
  },
  {
   "cell_type": "markdown",
   "metadata": {
    "editable": true
   },
   "source": [
    "#### Check on Unique Values in Categorical Fields\n",
    "\n",
    "Findings:\n",
    "\n",
    "Category Name:\n",
    "1. 'Cocktails / RTD', 'Cocktails /RTD' are the category; need to standardise\n",
    "2. 'American Cordials & Liqueur', 'American Cordials & Liqueurs' are the same; need to standardise\n",
    "3. 'American Vodka', 'American Vodkas' are the same; need to standardise\n",
    "4. 'Imported Cordials & Liqueur', 'Imported Cordials & Liqueurs'; need to standardise\n",
    "5. 'Imported Distilled Spirit Specialty', 'Imported Distilled Spirits Specialty' are the same; need to standardise\n",
    "6. 'Imported Vodka', 'Imported Vodkas' are the same; need to standardise\n",
    "7. 'Temporary &  Specialty Packages', 'Temporary & Specialty Packages' are the same; need to standardise\n",
    "\n",
    "County:\n",
    "1. Need to make all into Proper Case\n",
    "\n",
    "City:\n",
    "1. Data is clean"
   ]
  },
  {
   "cell_type": "code",
   "execution_count": 14,
   "metadata": {
    "editable": true
   },
   "outputs": [
    {
     "data": {
      "text/plain": [
       "['100% Agave Tequila',\n",
       " 'Aged Dark Rum',\n",
       " 'American Brandies',\n",
       " 'American Cordials & Liqueur',\n",
       " 'American Cordials & Liqueurs',\n",
       " 'American Distilled Spirit Specialty',\n",
       " 'American Dry Gins',\n",
       " 'American Flavored Vodka',\n",
       " 'American Schnapps',\n",
       " 'American Sloe Gins',\n",
       " 'American Vodka',\n",
       " 'American Vodkas',\n",
       " 'Blended Whiskies',\n",
       " 'Bottled in Bond Bourbon',\n",
       " 'Canadian Whiskies',\n",
       " 'Cocktails / RTD',\n",
       " 'Cocktails /RTD',\n",
       " 'Coffee Liqueurs',\n",
       " 'Corn Whiskies',\n",
       " 'Cream Liqueurs',\n",
       " 'Flavored Gin',\n",
       " 'Flavored Rum',\n",
       " 'Gold Rum',\n",
       " 'Imported Brandies',\n",
       " 'Imported Cordials & Liqueur',\n",
       " 'Imported Cordials & Liqueurs',\n",
       " 'Imported Distilled Spirit Specialty',\n",
       " 'Imported Distilled Spirits Specialty',\n",
       " 'Imported Dry Gins',\n",
       " 'Imported Flavored Vodka',\n",
       " 'Imported Schnapps',\n",
       " 'Imported Vodka',\n",
       " 'Imported Vodkas',\n",
       " 'Iowa Distillery Whiskies',\n",
       " 'Irish Whiskies',\n",
       " 'Mezcal',\n",
       " 'Mixto Tequila',\n",
       " 'Neutral Grain Spirits',\n",
       " 'Neutral Grain Spirits Flavored',\n",
       " 'Scotch Whiskies',\n",
       " 'Single Barrel Bourbon Whiskies',\n",
       " 'Single Malt Scotch',\n",
       " 'Special Order Items',\n",
       " 'Spiced Rum',\n",
       " 'Straight Bourbon Whiskies',\n",
       " 'Straight Rye Whiskies',\n",
       " 'Temporary &  Specialty Packages',\n",
       " 'Temporary & Specialty Packages',\n",
       " 'Tennessee Whiskies',\n",
       " 'Triple Sec',\n",
       " 'Whiskey Liqueur',\n",
       " 'White Rum',\n",
       " nan]"
      ]
     },
     "execution_count": 14,
     "metadata": {},
     "output_type": "execute_result"
    }
   ],
   "source": [
    "df['Category Name'].sort_values().unique().tolist()"
   ]
  },
  {
   "cell_type": "code",
   "execution_count": 44,
   "metadata": {
    "editable": true
   },
   "outputs": [
    {
     "data": {
      "text/plain": [
       "['ADAIR',\n",
       " 'ADAMS',\n",
       " 'ALLAMAKEE',\n",
       " 'APPANOOSE',\n",
       " 'AUDUBON',\n",
       " 'BENTON',\n",
       " 'BLACK HAWK',\n",
       " 'BOONE',\n",
       " 'BREMER',\n",
       " 'BUCHANAN',\n",
       " 'BUENA VIST',\n",
       " 'BUTLER',\n",
       " 'Black Hawk',\n",
       " 'CALHOUN',\n",
       " 'CARROLL',\n",
       " 'CASS',\n",
       " 'CEDAR',\n",
       " 'CERRO GORD',\n",
       " 'CHEROKEE',\n",
       " 'CHICKASAW',\n",
       " 'CLARKE',\n",
       " 'CLAY',\n",
       " 'CLAYTON',\n",
       " 'CLINTON',\n",
       " 'CRAWFORD',\n",
       " 'DALLAS',\n",
       " 'DAVIS',\n",
       " 'DECATUR',\n",
       " 'DELAWARE',\n",
       " 'DES MOINES',\n",
       " 'DICKINSON',\n",
       " 'DUBUQUE',\n",
       " 'Dallas',\n",
       " 'Delaware',\n",
       " 'Des Moines',\n",
       " 'EMMET',\n",
       " 'FAYETTE',\n",
       " 'FLOYD',\n",
       " 'FRANKLIN',\n",
       " 'FREMONT',\n",
       " 'GREENE',\n",
       " 'GRUNDY',\n",
       " 'GUTHRIE',\n",
       " 'HAMILTON',\n",
       " 'HANCOCK',\n",
       " 'HARDIN',\n",
       " 'HARRISON',\n",
       " 'HENRY',\n",
       " 'HOWARD',\n",
       " 'HUMBOLDT',\n",
       " 'Hancock',\n",
       " 'Hardin',\n",
       " 'Henry',\n",
       " 'IDA',\n",
       " 'IOWA',\n",
       " 'Iowa',\n",
       " 'JACKSON',\n",
       " 'JASPER',\n",
       " 'JEFFERSON',\n",
       " 'JOHNSON',\n",
       " 'JONES',\n",
       " 'Jackson',\n",
       " 'KEOKUK',\n",
       " 'KOSSUTH',\n",
       " 'LEE',\n",
       " 'LINN',\n",
       " 'LOUISA',\n",
       " 'LUCAS',\n",
       " 'LYON',\n",
       " 'Linn',\n",
       " 'MADISON',\n",
       " 'MAHASKA',\n",
       " 'MARION',\n",
       " 'MARSHALL',\n",
       " 'MILLS',\n",
       " 'MITCHELL',\n",
       " 'MONONA',\n",
       " 'MONROE',\n",
       " 'MONTGOMERY',\n",
       " 'MUSCATINE',\n",
       " 'Madison',\n",
       " 'Marion',\n",
       " 'Marshall',\n",
       " 'OBRIEN',\n",
       " 'OSCEOLA',\n",
       " 'PAGE',\n",
       " 'PALO ALTO',\n",
       " 'PLYMOUTH',\n",
       " 'POCAHONTAS',\n",
       " 'POLK',\n",
       " 'POTTAWATTA',\n",
       " 'POWESHIEK',\n",
       " 'Polk',\n",
       " 'Pottawatta',\n",
       " 'Poweshiek',\n",
       " 'RINGGOLD',\n",
       " 'SAC',\n",
       " 'SCOTT',\n",
       " 'SHELBY',\n",
       " 'SIOUX',\n",
       " 'STORY',\n",
       " 'Scott',\n",
       " 'TAMA',\n",
       " 'TAYLOR',\n",
       " 'UNION',\n",
       " 'VAN BUREN',\n",
       " 'WAPELLO',\n",
       " 'WARREN',\n",
       " 'WASHINGTON',\n",
       " 'WAYNE',\n",
       " 'WEBSTER',\n",
       " 'WINNEBAGO',\n",
       " 'WINNESHIEK',\n",
       " 'WOODBURY',\n",
       " 'WORTH',\n",
       " 'WRIGHT',\n",
       " 'Wapello',\n",
       " 'Webster',\n",
       " nan]"
      ]
     },
     "execution_count": 44,
     "metadata": {},
     "output_type": "execute_result"
    }
   ],
   "source": [
    "df['County'].sort_values().unique().tolist()"
   ]
  },
  {
   "cell_type": "code",
   "execution_count": 45,
   "metadata": {
    "editable": true
   },
   "outputs": [
    {
     "data": {
      "text/plain": [
       "['Ackley',\n",
       " 'Adair',\n",
       " 'Adel',\n",
       " 'Afton',\n",
       " 'Akron',\n",
       " 'Albert City',\n",
       " 'Albia',\n",
       " 'Albion',\n",
       " 'Alburnett',\n",
       " 'Alden',\n",
       " 'Algona',\n",
       " 'Allison',\n",
       " 'Alta',\n",
       " 'Alton',\n",
       " 'Altoona',\n",
       " 'Amana',\n",
       " 'Ames',\n",
       " 'Anamosa',\n",
       " 'Anita',\n",
       " 'Ankeny',\n",
       " 'Anthon',\n",
       " 'Aplington',\n",
       " 'Arlington',\n",
       " 'Armstrong',\n",
       " 'Arnolds Park',\n",
       " 'Atkins',\n",
       " 'Atlantic',\n",
       " 'Audubon',\n",
       " 'Aurelia',\n",
       " 'Avoca',\n",
       " 'Baldwin',\n",
       " 'Bancroft',\n",
       " 'Baxter',\n",
       " 'Bedford',\n",
       " 'Belle Plaine',\n",
       " 'Bellevue',\n",
       " 'Belmond',\n",
       " 'Bettendorf',\n",
       " 'Bevington',\n",
       " 'Blairstown',\n",
       " 'Bloomfield',\n",
       " 'Blue Grass',\n",
       " 'Bondurant',\n",
       " 'Boone',\n",
       " 'Britt',\n",
       " 'Brooklyn',\n",
       " 'Buffalo',\n",
       " 'Buffalo Center',\n",
       " 'Burlington',\n",
       " 'Calmar',\n",
       " 'Camanche',\n",
       " 'Carlisle',\n",
       " 'Carroll',\n",
       " 'Carter Lake',\n",
       " 'Cascade',\n",
       " 'Cedar Falls',\n",
       " 'Cedar Rapids',\n",
       " 'Center Point',\n",
       " 'Centerville',\n",
       " 'Central City',\n",
       " 'Chariton',\n",
       " 'Charles City',\n",
       " 'Cherokee',\n",
       " 'Clarence',\n",
       " 'Clarinda',\n",
       " 'Clarion',\n",
       " 'Clarksville',\n",
       " 'Clear Lake',\n",
       " 'ClearLake',\n",
       " 'Clermont',\n",
       " 'Clinton',\n",
       " 'Clive',\n",
       " 'Coggon',\n",
       " 'Colfax',\n",
       " 'Colo',\n",
       " 'Columbus Junction',\n",
       " 'Conrad',\n",
       " 'Coon Rapids',\n",
       " 'Coralville',\n",
       " 'Corning',\n",
       " 'Correctionville',\n",
       " 'Corwith',\n",
       " 'Corydon',\n",
       " 'Council Bluffs',\n",
       " 'Crescent',\n",
       " 'Cresco',\n",
       " 'Creston',\n",
       " 'Cumming',\n",
       " 'Dakota City',\n",
       " 'Dallas Center',\n",
       " 'Danville',\n",
       " 'Davenport',\n",
       " 'Dayton',\n",
       " 'De Soto',\n",
       " 'DeWitt',\n",
       " 'Decorah',\n",
       " 'Delaware',\n",
       " 'Delmar',\n",
       " 'Denison',\n",
       " 'Denver',\n",
       " 'Des Moines',\n",
       " 'Dexter',\n",
       " 'Donnellson',\n",
       " 'Doon',\n",
       " 'Dows',\n",
       " 'Dubuque',\n",
       " 'Dumont',\n",
       " 'Dunlap',\n",
       " 'Durant',\n",
       " 'Dyersville',\n",
       " 'Dysart',\n",
       " 'Eagle Grove',\n",
       " 'Earlham',\n",
       " 'Earling',\n",
       " 'Early',\n",
       " 'Eddyville',\n",
       " 'Edgewood',\n",
       " 'Eldon',\n",
       " 'Eldora',\n",
       " 'Eldridge',\n",
       " 'Elkader',\n",
       " 'Ellsworth',\n",
       " 'Elma',\n",
       " 'Ely',\n",
       " 'Emmetsburg',\n",
       " 'Essex',\n",
       " 'Estherville',\n",
       " 'Evansdale',\n",
       " 'Exira',\n",
       " 'Fairbank',\n",
       " 'Fairfax',\n",
       " 'Fairfield',\n",
       " 'Farley',\n",
       " 'Farmington',\n",
       " 'Fayette',\n",
       " 'Floyd',\n",
       " 'Fonda',\n",
       " 'Forest City',\n",
       " 'Fort Atkinson',\n",
       " 'Fort Dodge',\n",
       " 'Fort Madison',\n",
       " 'Fredericksburg',\n",
       " 'Fremont',\n",
       " 'Garner',\n",
       " 'Garwin',\n",
       " 'George',\n",
       " 'Gilbertville',\n",
       " 'Gilmore City',\n",
       " 'Gladbrook',\n",
       " 'Glenwood',\n",
       " 'Glidden',\n",
       " 'Goldfield',\n",
       " 'Gowrie',\n",
       " 'Graettinger',\n",
       " 'Grand Junction',\n",
       " 'Grand Mounds',\n",
       " 'Granger',\n",
       " 'Greene',\n",
       " 'Greenfield',\n",
       " 'Grimes',\n",
       " 'Grinnell',\n",
       " 'Griswold',\n",
       " 'Grundy Center',\n",
       " 'Guthrie Center',\n",
       " 'Guttenberg',\n",
       " 'Hamburg',\n",
       " 'Hampton',\n",
       " 'Harlan',\n",
       " 'Harpers Ferry',\n",
       " 'Hartley',\n",
       " 'Hawarden',\n",
       " 'Hazleton',\n",
       " 'Hiawatha',\n",
       " 'Hills',\n",
       " 'Holstein',\n",
       " 'Holy Cross',\n",
       " 'Hubbard',\n",
       " 'Hudson',\n",
       " 'Hull',\n",
       " 'Humboldt',\n",
       " 'Humeston',\n",
       " 'Huxley',\n",
       " 'Ida Grove',\n",
       " 'Independence',\n",
       " 'Indianola',\n",
       " 'Inwood',\n",
       " 'Iowa City',\n",
       " 'Iowa Falls',\n",
       " 'Jefferson',\n",
       " 'Jesup',\n",
       " 'Jewell',\n",
       " 'Johnston',\n",
       " 'Kalona',\n",
       " 'Kanawha',\n",
       " 'Kellogg',\n",
       " 'Keokuk',\n",
       " 'Keosauqua',\n",
       " 'Keota',\n",
       " 'Kingsley',\n",
       " 'Knoxville',\n",
       " 'La Porte City',\n",
       " 'Lake City',\n",
       " 'Lake Mills',\n",
       " 'Lake Park',\n",
       " 'Lake View',\n",
       " 'Lamoni',\n",
       " 'Lamont',\n",
       " 'Lansing',\n",
       " 'Larchwood',\n",
       " 'Latimer',\n",
       " 'Laurens',\n",
       " 'Lawler',\n",
       " 'Le Claire',\n",
       " 'Le Grand',\n",
       " 'Le Mars',\n",
       " 'Leclaire',\n",
       " 'Lenox',\n",
       " 'Leon',\n",
       " 'Lisbon',\n",
       " 'Livermore',\n",
       " 'Logan',\n",
       " 'Lohrville',\n",
       " 'LoneTree',\n",
       " 'Lost Nation',\n",
       " 'Lovilia',\n",
       " 'MUSCATINE',\n",
       " 'Madrid',\n",
       " 'Malvern',\n",
       " 'Manchester',\n",
       " 'Manly',\n",
       " 'Manning',\n",
       " 'Manson',\n",
       " 'Mapleton',\n",
       " 'Maquoketa',\n",
       " 'Marcus',\n",
       " 'Marengo',\n",
       " 'Marion',\n",
       " 'Marquette',\n",
       " 'Marshalltown',\n",
       " 'Martensdale',\n",
       " 'Mason City',\n",
       " 'Maxwell',\n",
       " 'Maynard',\n",
       " 'Mechanicsville',\n",
       " 'Mediapolis',\n",
       " 'Melbourne',\n",
       " 'Melcher-Dallas',\n",
       " 'Middletown',\n",
       " 'Milford',\n",
       " 'Minden',\n",
       " 'Missouri Valley',\n",
       " 'Mitchellville',\n",
       " 'Monona',\n",
       " 'Monroe',\n",
       " 'Montezuma',\n",
       " 'Monticello',\n",
       " 'Montrose',\n",
       " 'Moravia',\n",
       " 'Morning Sun',\n",
       " 'Mount Ayr',\n",
       " 'Mount Pleasant',\n",
       " 'Mount Vernon',\n",
       " 'Mt Pleasant',\n",
       " 'Muscatine',\n",
       " 'Nashua',\n",
       " 'Neola',\n",
       " 'Nevada',\n",
       " 'New Hampton',\n",
       " 'New Hartford',\n",
       " 'New London',\n",
       " 'New Sharon',\n",
       " 'New Virginia',\n",
       " 'Newton',\n",
       " 'Nora Springs',\n",
       " 'North English',\n",
       " 'North Liberty',\n",
       " 'Northwood',\n",
       " 'Norwalk',\n",
       " 'Norway',\n",
       " 'Oakland',\n",
       " 'Oelwein',\n",
       " 'Ogden',\n",
       " 'Okoboji',\n",
       " 'Onawa',\n",
       " 'Orange City',\n",
       " 'Osage',\n",
       " 'Osceola',\n",
       " 'Oskaloosa',\n",
       " 'Otho',\n",
       " 'Ottumwa',\n",
       " 'Oxford',\n",
       " 'Pacific Junction',\n",
       " 'Palo',\n",
       " 'Panora',\n",
       " 'Parkersburg',\n",
       " 'Paullina',\n",
       " 'Pella',\n",
       " 'Peosta',\n",
       " 'Perry',\n",
       " 'Pleasant Hill',\n",
       " 'Pleasant Valley',\n",
       " 'Pleasantville',\n",
       " 'Pocahontas',\n",
       " 'Polk City',\n",
       " 'Postville',\n",
       " 'Prairie City',\n",
       " 'Primghar',\n",
       " 'Princeton',\n",
       " 'Raymond',\n",
       " 'Red Oak',\n",
       " 'Redfield',\n",
       " 'Reinbeck',\n",
       " 'Remsen',\n",
       " 'Riceville',\n",
       " 'Riverside',\n",
       " 'Robins',\n",
       " 'Rock Rapids',\n",
       " 'Rock Valley',\n",
       " 'Rockford',\n",
       " 'Rockwell',\n",
       " 'Rockwell City',\n",
       " 'Roland',\n",
       " 'Rudd',\n",
       " 'Runnells',\n",
       " 'SAGEVILLE',\n",
       " 'Sac City',\n",
       " 'Saint Ansgar',\n",
       " 'Sanborn',\n",
       " 'Schleswig',\n",
       " 'Scranton',\n",
       " 'Sergeant Bluff',\n",
       " 'Seymour',\n",
       " 'Sheffield',\n",
       " 'Sheldon',\n",
       " 'Shellsburg',\n",
       " 'Shenandoah',\n",
       " 'Shueyville',\n",
       " 'Sibley',\n",
       " 'Sigourney',\n",
       " 'Sioux Center',\n",
       " 'Sioux City',\n",
       " 'Sioux Rapids',\n",
       " 'Slater',\n",
       " 'Sloan',\n",
       " 'Solon',\n",
       " 'Spencer',\n",
       " 'Spirit Lake',\n",
       " 'Springville',\n",
       " 'St Ansgar',\n",
       " 'St Charles',\n",
       " 'St Lucas',\n",
       " 'Stanton',\n",
       " 'Stanwood',\n",
       " 'State Center',\n",
       " 'Storm Lake',\n",
       " 'Story City',\n",
       " 'Stratford',\n",
       " 'Strawberry Point',\n",
       " 'Stuart',\n",
       " 'Sully',\n",
       " 'Sumner',\n",
       " 'Sutherland',\n",
       " 'Swea City',\n",
       " 'Swisher',\n",
       " 'Tabor',\n",
       " 'Tama',\n",
       " 'Templeton',\n",
       " 'Tiffin',\n",
       " 'Tipton',\n",
       " 'Toledo',\n",
       " 'Traer',\n",
       " 'Treynor',\n",
       " 'Tripoli',\n",
       " 'Truro',\n",
       " 'Urbana',\n",
       " 'Urbandale',\n",
       " 'Van Horne',\n",
       " 'Van Meter',\n",
       " 'Victor',\n",
       " 'Villisca',\n",
       " 'Vinton',\n",
       " 'Walcott',\n",
       " 'Walford',\n",
       " 'Walker',\n",
       " 'Wall Lake',\n",
       " 'Walnut',\n",
       " 'Wapello',\n",
       " 'Washburn',\n",
       " 'Washington',\n",
       " 'Waterloo',\n",
       " 'Waukee',\n",
       " 'Waukon',\n",
       " 'Waverly',\n",
       " 'Webster City',\n",
       " 'Wellman',\n",
       " 'Wellsburg',\n",
       " 'Wesley',\n",
       " 'West Bend',\n",
       " 'West Branch',\n",
       " 'West Burlington',\n",
       " 'West Des Moines',\n",
       " 'West Liberty',\n",
       " 'West Point',\n",
       " 'West Union',\n",
       " 'What Cheer',\n",
       " 'Wheatland',\n",
       " 'Williamsburg',\n",
       " 'Wilton',\n",
       " 'Windsor Heights',\n",
       " 'Winfield',\n",
       " 'Winterset',\n",
       " 'Winthrop',\n",
       " 'Woodbine',\n",
       " 'Woodward',\n",
       " 'Zwingle',\n",
       " nan]"
      ]
     },
     "execution_count": 45,
     "metadata": {},
     "output_type": "execute_result"
    }
   ],
   "source": [
    "df['City'].sort_values().unique().tolist()"
   ]
  },
  {
   "cell_type": "markdown",
   "metadata": {
    "editable": true
   },
   "source": [
    "-----------------------------------------------------------------"
   ]
  },
  {
   "cell_type": "markdown",
   "metadata": {
    "editable": true
   },
   "source": [
    "### 2. Holidays Dataset\n",
    "\n",
    "* Location of sample data: /data/holidays/usholidays.json\n",
    "* Location of full data: S3 bucket"
   ]
  },
  {
   "cell_type": "code",
   "execution_count": 16,
   "metadata": {
    "editable": true
   },
   "outputs": [],
   "source": [
    "# Read in the data here\n",
    "df_holidays = pd.read_json(\"data/holidays/usholidays.json\")"
   ]
  },
  {
   "cell_type": "markdown",
   "metadata": {
    "editable": true
   },
   "source": [
    "#### Shape of dataset"
   ]
  },
  {
   "cell_type": "code",
   "execution_count": 17,
   "metadata": {
    "editable": true
   },
   "outputs": [
    {
     "data": {
      "text/plain": [
       "(485, 2)"
      ]
     },
     "execution_count": 17,
     "metadata": {},
     "output_type": "execute_result"
    }
   ],
   "source": [
    "df_holidays.shape"
   ]
  },
  {
   "cell_type": "markdown",
   "metadata": {
    "editable": true
   },
   "source": [
    "#### Columns and Data Types\n",
    "\n",
    "Findings:\n",
    "1. Column types are clean"
   ]
  },
  {
   "cell_type": "code",
   "execution_count": 19,
   "metadata": {
    "editable": true
   },
   "outputs": [
    {
     "data": {
      "text/plain": [
       "Date       datetime64[ns]\n",
       "Holiday            object\n",
       "dtype: object"
      ]
     },
     "execution_count": 19,
     "metadata": {},
     "output_type": "execute_result"
    }
   ],
   "source": [
    "df_holidays.dtypes"
   ]
  },
  {
   "cell_type": "markdown",
   "metadata": {
    "editable": true
   },
   "source": [
    "#### Sample Data\n",
    "\n",
    "Findings:\n",
    "1. Column names need to be transformed into lowercase"
   ]
  },
  {
   "cell_type": "code",
   "execution_count": 20,
   "metadata": {
    "editable": true
   },
   "outputs": [
    {
     "data": {
      "text/html": [
       "<div>\n",
       "<style scoped>\n",
       "    .dataframe tbody tr th:only-of-type {\n",
       "        vertical-align: middle;\n",
       "    }\n",
       "\n",
       "    .dataframe tbody tr th {\n",
       "        vertical-align: top;\n",
       "    }\n",
       "\n",
       "    .dataframe thead th {\n",
       "        text-align: right;\n",
       "    }\n",
       "</style>\n",
       "<table border=\"1\" class=\"dataframe\">\n",
       "  <thead>\n",
       "    <tr style=\"text-align: right;\">\n",
       "      <th></th>\n",
       "      <th>Date</th>\n",
       "      <th>Holiday</th>\n",
       "    </tr>\n",
       "  </thead>\n",
       "  <tbody>\n",
       "    <tr>\n",
       "      <th>0</th>\n",
       "      <td>2010-12-31</td>\n",
       "      <td>New Year's Day</td>\n",
       "    </tr>\n",
       "    <tr>\n",
       "      <th>1</th>\n",
       "      <td>2011-01-17</td>\n",
       "      <td>Birthday of Martin Luther King, Jr.</td>\n",
       "    </tr>\n",
       "    <tr>\n",
       "      <th>2</th>\n",
       "      <td>2011-02-21</td>\n",
       "      <td>Washington's Birthday</td>\n",
       "    </tr>\n",
       "    <tr>\n",
       "      <th>3</th>\n",
       "      <td>2011-05-30</td>\n",
       "      <td>Memorial Day</td>\n",
       "    </tr>\n",
       "    <tr>\n",
       "      <th>4</th>\n",
       "      <td>2011-04-07</td>\n",
       "      <td>Independence Day</td>\n",
       "    </tr>\n",
       "  </tbody>\n",
       "</table>\n",
       "</div>"
      ],
      "text/plain": [
       "        Date                              Holiday\n",
       "0 2010-12-31                       New Year's Day\n",
       "1 2011-01-17  Birthday of Martin Luther King, Jr.\n",
       "2 2011-02-21                Washington's Birthday\n",
       "3 2011-05-30                         Memorial Day\n",
       "4 2011-04-07                     Independence Day"
      ]
     },
     "execution_count": 20,
     "metadata": {},
     "output_type": "execute_result"
    }
   ],
   "source": [
    "df_holidays.head()"
   ]
  },
  {
   "cell_type": "markdown",
   "metadata": {
    "editable": true
   },
   "source": [
    "#### Check for Missing Values in Important Columns\n",
    "\n",
    "Findings:\n",
    "1. No null values; dataset is clean"
   ]
  },
  {
   "cell_type": "code",
   "execution_count": 21,
   "metadata": {
    "editable": true
   },
   "outputs": [
    {
     "name": "stdout",
     "output_type": "stream",
     "text": [
      "<class 'pandas.core.frame.DataFrame'>\n",
      "RangeIndex: 485 entries, 0 to 484\n",
      "Data columns (total 2 columns):\n",
      "Date       485 non-null datetime64[ns]\n",
      "Holiday    485 non-null object\n",
      "dtypes: datetime64[ns](1), object(1)\n",
      "memory usage: 7.7+ KB\n"
     ]
    }
   ],
   "source": [
    "df_holidays.info(null_counts=True)"
   ]
  },
  {
   "cell_type": "markdown",
   "metadata": {
    "editable": true
   },
   "source": [
    "#### Check on Unique Values in Categorical Fields\n",
    "\n",
    "Findings:\n",
    "1. While there are duplicate values due to the way it is quoted this is not a problem"
   ]
  },
  {
   "cell_type": "code",
   "execution_count": 22,
   "metadata": {
    "editable": true
   },
   "outputs": [
    {
     "data": {
      "text/plain": [
       "['Birthday of Martin Luther King, Jr.',\n",
       " 'Christmas Day',\n",
       " 'Columbus Day',\n",
       " 'Independence Day',\n",
       " 'Labor Day',\n",
       " 'Martin Luther King, Jr. Day',\n",
       " 'Memorial Day',\n",
       " \"New Year's Day\",\n",
       " 'New Year’s Day',\n",
       " 'Thanksgiving Day',\n",
       " 'Veterans Day',\n",
       " \"Washington's Birthday\",\n",
       " 'Washington’s Birthday']"
      ]
     },
     "execution_count": 22,
     "metadata": {},
     "output_type": "execute_result"
    }
   ],
   "source": [
    "df_holidays['Holiday'].sort_values().unique().tolist()"
   ]
  },
  {
   "cell_type": "markdown",
   "metadata": {
    "editable": true
   },
   "source": [
    "___________________________________________________"
   ]
  },
  {
   "cell_type": "markdown",
   "metadata": {
    "editable": true
   },
   "source": [
    "### 3. Weather Dataset\n",
    "\n",
    "* Location of sample data: /data/weather/*.csv\n",
    "* Location of full data: S3 bucket"
   ]
  },
  {
   "cell_type": "code",
   "execution_count": 61,
   "metadata": {
    "editable": true
   },
   "outputs": [],
   "source": [
    "# Read in the data here\n",
    "all_files = glob.glob(\"data/weather/*.csv\")\n",
    "\n",
    "li = []\n",
    "\n",
    "for filename in all_files:\n",
    "    df_weather = pd.read_csv(filename)\n",
    "    li.append(df_weather)\n",
    "\n",
    "df_weather = pd.concat(li, axis=0, ignore_index=True)"
   ]
  },
  {
   "cell_type": "markdown",
   "metadata": {
    "editable": true
   },
   "source": [
    "#### Shape of dataset"
   ]
  },
  {
   "cell_type": "code",
   "execution_count": 62,
   "metadata": {
    "editable": true
   },
   "outputs": [
    {
     "data": {
      "text/plain": [
       "(4752, 7)"
      ]
     },
     "execution_count": 62,
     "metadata": {},
     "output_type": "execute_result"
    }
   ],
   "source": [
    "df_weather.shape"
   ]
  },
  {
   "cell_type": "markdown",
   "metadata": {
    "editable": true
   },
   "source": [
    "#### Columns and Data Types\n",
    "\n",
    "Findings:\n",
    "1. Column types are clean"
   ]
  },
  {
   "cell_type": "code",
   "execution_count": 82,
   "metadata": {
    "editable": true
   },
   "outputs": [
    {
     "data": {
      "text/plain": [
       "County                    object\n",
       "State                     object\n",
       "Average Temperature      float64\n",
       "Latitude (generated)     float64\n",
       "Longitude (generated)    float64\n",
       "Year                       int64\n",
       "Month                      int64\n",
       "dtype: object"
      ]
     },
     "execution_count": 82,
     "metadata": {},
     "output_type": "execute_result"
    }
   ],
   "source": [
    "df_weather.dtypes"
   ]
  },
  {
   "cell_type": "markdown",
   "metadata": {
    "editable": true
   },
   "source": [
    "#### Sample Data\n",
    "\n",
    "Findings:\n",
    "1. Column names need to be transformed into lowercase and spaces or brackets to be replaced with _"
   ]
  },
  {
   "cell_type": "code",
   "execution_count": 83,
   "metadata": {
    "editable": true
   },
   "outputs": [
    {
     "data": {
      "text/html": [
       "<div>\n",
       "<style scoped>\n",
       "    .dataframe tbody tr th:only-of-type {\n",
       "        vertical-align: middle;\n",
       "    }\n",
       "\n",
       "    .dataframe tbody tr th {\n",
       "        vertical-align: top;\n",
       "    }\n",
       "\n",
       "    .dataframe thead th {\n",
       "        text-align: right;\n",
       "    }\n",
       "</style>\n",
       "<table border=\"1\" class=\"dataframe\">\n",
       "  <thead>\n",
       "    <tr style=\"text-align: right;\">\n",
       "      <th></th>\n",
       "      <th>County</th>\n",
       "      <th>State</th>\n",
       "      <th>Average Temperature</th>\n",
       "      <th>Latitude (generated)</th>\n",
       "      <th>Longitude (generated)</th>\n",
       "      <th>Year</th>\n",
       "      <th>Month</th>\n",
       "    </tr>\n",
       "  </thead>\n",
       "  <tbody>\n",
       "    <tr>\n",
       "      <th>0</th>\n",
       "      <td>Wright</td>\n",
       "      <td>Iowa</td>\n",
       "      <td>22.00</td>\n",
       "      <td>42.7343</td>\n",
       "      <td>-93.7351</td>\n",
       "      <td>2017</td>\n",
       "      <td>12</td>\n",
       "    </tr>\n",
       "    <tr>\n",
       "      <th>1</th>\n",
       "      <td>Worth</td>\n",
       "      <td>Iowa</td>\n",
       "      <td>18.44</td>\n",
       "      <td>43.3787</td>\n",
       "      <td>-93.2608</td>\n",
       "      <td>2017</td>\n",
       "      <td>12</td>\n",
       "    </tr>\n",
       "    <tr>\n",
       "      <th>2</th>\n",
       "      <td>Woodbury</td>\n",
       "      <td>Iowa</td>\n",
       "      <td>23.52</td>\n",
       "      <td>42.3866</td>\n",
       "      <td>-96.0407</td>\n",
       "      <td>2017</td>\n",
       "      <td>12</td>\n",
       "    </tr>\n",
       "    <tr>\n",
       "      <th>3</th>\n",
       "      <td>Winneshiek</td>\n",
       "      <td>Iowa</td>\n",
       "      <td>22.98</td>\n",
       "      <td>43.2932</td>\n",
       "      <td>-91.8426</td>\n",
       "      <td>2017</td>\n",
       "      <td>12</td>\n",
       "    </tr>\n",
       "    <tr>\n",
       "      <th>4</th>\n",
       "      <td>Winnebago</td>\n",
       "      <td>Iowa</td>\n",
       "      <td>20.29</td>\n",
       "      <td>43.3803</td>\n",
       "      <td>-93.7342</td>\n",
       "      <td>2017</td>\n",
       "      <td>12</td>\n",
       "    </tr>\n",
       "  </tbody>\n",
       "</table>\n",
       "</div>"
      ],
      "text/plain": [
       "       County State  Average Temperature  Latitude (generated)  \\\n",
       "0      Wright  Iowa                22.00               42.7343   \n",
       "1       Worth  Iowa                18.44               43.3787   \n",
       "2    Woodbury  Iowa                23.52               42.3866   \n",
       "3  Winneshiek  Iowa                22.98               43.2932   \n",
       "4   Winnebago  Iowa                20.29               43.3803   \n",
       "\n",
       "   Longitude (generated)  Year  Month  \n",
       "0               -93.7351  2017     12  \n",
       "1               -93.2608  2017     12  \n",
       "2               -96.0407  2017     12  \n",
       "3               -91.8426  2017     12  \n",
       "4               -93.7342  2017     12  "
      ]
     },
     "execution_count": 83,
     "metadata": {},
     "output_type": "execute_result"
    }
   ],
   "source": [
    "df_weather.head()"
   ]
  },
  {
   "cell_type": "markdown",
   "metadata": {
    "editable": true
   },
   "source": [
    "#### Statistics on Numeric Columns\n",
    "\n",
    "Findings:\n",
    "1. Data looks clean\n",
    "2. No outliers in the fields of important metrics (e.g sale)"
   ]
  },
  {
   "cell_type": "code",
   "execution_count": 88,
   "metadata": {
    "editable": true
   },
   "outputs": [
    {
     "data": {
      "text/html": [
       "<div>\n",
       "<style scoped>\n",
       "    .dataframe tbody tr th:only-of-type {\n",
       "        vertical-align: middle;\n",
       "    }\n",
       "\n",
       "    .dataframe tbody tr th {\n",
       "        vertical-align: top;\n",
       "    }\n",
       "\n",
       "    .dataframe thead th {\n",
       "        text-align: right;\n",
       "    }\n",
       "</style>\n",
       "<table border=\"1\" class=\"dataframe\">\n",
       "  <thead>\n",
       "    <tr style=\"text-align: right;\">\n",
       "      <th></th>\n",
       "      <th>Average Temperature</th>\n",
       "      <th>Latitude (generated)</th>\n",
       "      <th>Longitude (generated)</th>\n",
       "      <th>Year</th>\n",
       "      <th>Month</th>\n",
       "    </tr>\n",
       "  </thead>\n",
       "  <tbody>\n",
       "    <tr>\n",
       "      <th>count</th>\n",
       "      <td>3564.000000</td>\n",
       "      <td>3564.000000</td>\n",
       "      <td>3564.000000</td>\n",
       "      <td>3564.000000</td>\n",
       "      <td>3564.000000</td>\n",
       "    </tr>\n",
       "    <tr>\n",
       "      <th>mean</th>\n",
       "      <td>49.198751</td>\n",
       "      <td>42.028320</td>\n",
       "      <td>-93.467433</td>\n",
       "      <td>2017.000000</td>\n",
       "      <td>6.500000</td>\n",
       "    </tr>\n",
       "    <tr>\n",
       "      <th>std</th>\n",
       "      <td>19.339754</td>\n",
       "      <td>0.845857</td>\n",
       "      <td>1.552874</td>\n",
       "      <td>0.816611</td>\n",
       "      <td>3.452537</td>\n",
       "    </tr>\n",
       "    <tr>\n",
       "      <th>min</th>\n",
       "      <td>10.060000</td>\n",
       "      <td>40.595300</td>\n",
       "      <td>-96.245500</td>\n",
       "      <td>2016.000000</td>\n",
       "      <td>1.000000</td>\n",
       "    </tr>\n",
       "    <tr>\n",
       "      <th>25%</th>\n",
       "      <td>31.362500</td>\n",
       "      <td>41.332300</td>\n",
       "      <td>-94.700000</td>\n",
       "      <td>2016.000000</td>\n",
       "      <td>3.750000</td>\n",
       "    </tr>\n",
       "    <tr>\n",
       "      <th>50%</th>\n",
       "      <td>50.400000</td>\n",
       "      <td>42.038400</td>\n",
       "      <td>-93.465200</td>\n",
       "      <td>2017.000000</td>\n",
       "      <td>6.500000</td>\n",
       "    </tr>\n",
       "    <tr>\n",
       "      <th>75%</th>\n",
       "      <td>68.732500</td>\n",
       "      <td>42.735900</td>\n",
       "      <td>-92.179100</td>\n",
       "      <td>2018.000000</td>\n",
       "      <td>9.250000</td>\n",
       "    </tr>\n",
       "    <tr>\n",
       "      <th>max</th>\n",
       "      <td>79.190000</td>\n",
       "      <td>43.380500</td>\n",
       "      <td>-90.532400</td>\n",
       "      <td>2018.000000</td>\n",
       "      <td>12.000000</td>\n",
       "    </tr>\n",
       "  </tbody>\n",
       "</table>\n",
       "</div>"
      ],
      "text/plain": [
       "       Average Temperature  Latitude (generated)  Longitude (generated)  \\\n",
       "count          3564.000000           3564.000000            3564.000000   \n",
       "mean             49.198751             42.028320             -93.467433   \n",
       "std              19.339754              0.845857               1.552874   \n",
       "min              10.060000             40.595300             -96.245500   \n",
       "25%              31.362500             41.332300             -94.700000   \n",
       "50%              50.400000             42.038400             -93.465200   \n",
       "75%              68.732500             42.735900             -92.179100   \n",
       "max              79.190000             43.380500             -90.532400   \n",
       "\n",
       "              Year        Month  \n",
       "count  3564.000000  3564.000000  \n",
       "mean   2017.000000     6.500000  \n",
       "std       0.816611     3.452537  \n",
       "min    2016.000000     1.000000  \n",
       "25%    2016.000000     3.750000  \n",
       "50%    2017.000000     6.500000  \n",
       "75%    2018.000000     9.250000  \n",
       "max    2018.000000    12.000000  "
      ]
     },
     "execution_count": 88,
     "metadata": {},
     "output_type": "execute_result"
    }
   ],
   "source": [
    "df_weather.describe()"
   ]
  },
  {
   "cell_type": "markdown",
   "metadata": {
    "editable": true
   },
   "source": [
    "#### Check for Missing Values in Important Columns\n",
    "\n",
    "Findings:\n",
    "1. No null values; dataset is clean"
   ]
  },
  {
   "cell_type": "code",
   "execution_count": 85,
   "metadata": {
    "editable": true
   },
   "outputs": [
    {
     "name": "stdout",
     "output_type": "stream",
     "text": [
      "<class 'pandas.core.frame.DataFrame'>\n",
      "RangeIndex: 3564 entries, 0 to 3563\n",
      "Data columns (total 7 columns):\n",
      "County                   3564 non-null object\n",
      "State                    3564 non-null object\n",
      "Average Temperature      3564 non-null float64\n",
      "Latitude (generated)     3564 non-null float64\n",
      "Longitude (generated)    3564 non-null float64\n",
      "Year                     3564 non-null int64\n",
      "Month                    3564 non-null int64\n",
      "dtypes: float64(3), int64(2), object(2)\n",
      "memory usage: 195.0+ KB\n"
     ]
    }
   ],
   "source": [
    "df_weather.info(null_counts=True)"
   ]
  },
  {
   "cell_type": "markdown",
   "metadata": {
    "editable": true
   },
   "source": [
    "#### Check on Unique Values in Categorical Fields\n",
    "\n",
    "Findings:\n",
    "1. Data is clean"
   ]
  },
  {
   "cell_type": "code",
   "execution_count": 86,
   "metadata": {
    "editable": true
   },
   "outputs": [
    {
     "data": {
      "text/plain": [
       "['Adair',\n",
       " 'Adams',\n",
       " 'Allamakee',\n",
       " 'Appanoose',\n",
       " 'Audubon',\n",
       " 'Benton',\n",
       " 'Black Hawk',\n",
       " 'Boone',\n",
       " 'Bremer',\n",
       " 'Buchanan',\n",
       " 'Buena Vista',\n",
       " 'Butler',\n",
       " 'Calhoun',\n",
       " 'Carroll',\n",
       " 'Cass',\n",
       " 'Cedar',\n",
       " 'Cerro Gordo',\n",
       " 'Cherokee',\n",
       " 'Chickasaw',\n",
       " 'Clarke',\n",
       " 'Clay',\n",
       " 'Clayton',\n",
       " 'Clinton',\n",
       " 'Crawford',\n",
       " 'Dallas',\n",
       " 'Davis',\n",
       " 'Decatur',\n",
       " 'Delaware',\n",
       " 'Des Moines',\n",
       " 'Dickinson',\n",
       " 'Dubuque',\n",
       " 'Emmet',\n",
       " 'Fayette',\n",
       " 'Floyd',\n",
       " 'Franklin',\n",
       " 'Fremont',\n",
       " 'Greene',\n",
       " 'Grundy',\n",
       " 'Guthrie',\n",
       " 'Hamilton',\n",
       " 'Hancock',\n",
       " 'Hardin',\n",
       " 'Harrison',\n",
       " 'Henry',\n",
       " 'Howard',\n",
       " 'Humboldt',\n",
       " 'Ida',\n",
       " 'Iowa',\n",
       " 'Jackson',\n",
       " 'Jasper',\n",
       " 'Jefferson',\n",
       " 'Johnson',\n",
       " 'Jones',\n",
       " 'Keokuk',\n",
       " 'Kossuth',\n",
       " 'Lee',\n",
       " 'Linn',\n",
       " 'Louisa',\n",
       " 'Lucas',\n",
       " 'Lyon',\n",
       " 'Madison',\n",
       " 'Mahaska',\n",
       " 'Marion',\n",
       " 'Marshall',\n",
       " 'Mills',\n",
       " 'Mitchell',\n",
       " 'Monona',\n",
       " 'Monroe',\n",
       " 'Montgomery',\n",
       " 'Muscatine',\n",
       " 'Obrien',\n",
       " 'Osceola',\n",
       " 'Page',\n",
       " 'Palo Alto',\n",
       " 'Plymouth',\n",
       " 'Pocahontas',\n",
       " 'Polk',\n",
       " 'Pottawattamie',\n",
       " 'Poweshiek',\n",
       " 'Ringgold',\n",
       " 'Sac',\n",
       " 'Scott',\n",
       " 'Shelby',\n",
       " 'Sioux',\n",
       " 'Story',\n",
       " 'Tama',\n",
       " 'Taylor',\n",
       " 'Union',\n",
       " 'Van Buren',\n",
       " 'Wapello',\n",
       " 'Warren',\n",
       " 'Washington',\n",
       " 'Wayne',\n",
       " 'Webster',\n",
       " 'Winnebago',\n",
       " 'Winneshiek',\n",
       " 'Woodbury',\n",
       " 'Worth',\n",
       " 'Wright']"
      ]
     },
     "execution_count": 86,
     "metadata": {},
     "output_type": "execute_result"
    }
   ],
   "source": [
    "df_weather['County'].sort_values().unique().tolist()"
   ]
  },
  {
   "cell_type": "code",
   "execution_count": 87,
   "metadata": {
    "editable": true
   },
   "outputs": [
    {
     "data": {
      "text/plain": [
       "['Iowa']"
      ]
     },
     "execution_count": 87,
     "metadata": {},
     "output_type": "execute_result"
    }
   ],
   "source": [
    "df_weather['State'].sort_values().unique().tolist()"
   ]
  },
  {
   "cell_type": "markdown",
   "metadata": {
    "editable": true
   },
   "source": [
    "---------"
   ]
  },
  {
   "cell_type": "markdown",
   "metadata": {
    "editable": true
   },
   "source": [
    "### Data Cleansing and Transformation Steps using Spark"
   ]
  },
  {
   "cell_type": "code",
   "execution_count": 2,
   "metadata": {
    "editable": true
   },
   "outputs": [],
   "source": [
    "#initiate spark session\n",
    "spark = SparkSession.builder.getOrCreate()"
   ]
  },
  {
   "cell_type": "markdown",
   "metadata": {
    "editable": true
   },
   "source": [
    "#### 1. Cleanse Liquor Sales Dataset"
   ]
  },
  {
   "cell_type": "code",
   "execution_count": 7,
   "metadata": {
    "editable": true
   },
   "outputs": [],
   "source": [
    "#define schema for liquor sales file and also convert column names accordingly on definition\n",
    "\n",
    "liquor_sales_schema = StructType(\n",
    "    [\n",
    "        StructField('invoice_number', StringType(), False),\n",
    "        StructField('sales_date', DateType(), True),\n",
    "        StructField('store_number', DoubleType(), True),\n",
    "        StructField('store_name', StringType(), True),\n",
    "        StructField('address', StringType(), True),\n",
    "        StructField('city', StringType(), True),\n",
    "        StructField('zipcode', IntegerType(), True),\n",
    "        StructField('store_location', StringType(), True),\n",
    "        StructField('county_number', DoubleType(), True),\n",
    "        StructField('county', StringType(), True),\n",
    "        StructField('category', DoubleType(), True),\n",
    "        StructField('category_name', StringType(), True),\n",
    "        StructField('vendor_number', DoubleType(), True),\n",
    "        StructField('vendor_name', StringType(), True),\n",
    "        StructField('item_number', DoubleType(), True),\n",
    "        StructField('description', StringType(), True),\n",
    "        StructField('pack', IntegerType(), True),\n",
    "        StructField('bottle_volume', IntegerType(), True),\n",
    "        StructField('item_cost_price', DecimalType(10,2), True),\n",
    "        StructField('item_retail_price', DecimalType(10,2), True),\n",
    "        StructField('bottles_sold', IntegerType(), True),\n",
    "        StructField('sales_usd', DecimalType(10,2), True),\n",
    "        StructField('volume_sold_litres', DecimalType(10,2), True),\n",
    "        StructField('volume_sold_gallons', DecimalType(10,2), True)\n",
    "    ]\n",
    ")"
   ]
  },
  {
   "cell_type": "code",
   "execution_count": 8,
   "metadata": {
    "editable": true
   },
   "outputs": [
    {
     "name": "stdout",
     "output_type": "stream",
     "text": [
      "+---------------+----------+------------+--------------------+--------------------+-----+-------+--------------------+-------------+------+---------+-----------------+-------------+------------------+-----------+------------+----+-------------+---------------+-----------------+------------+---------+------------------+-------------------+\n",
      "| invoice_number|sales_date|store_number|          store_name|             address| city|zipcode|      store_location|county_number|county| category|    category_name|vendor_number|       vendor_name|item_number| description|pack|bottle_volume|item_cost_price|item_retail_price|bottles_sold|sales_usd|volume_sold_litres|volume_sold_gallons|\n",
      "+---------------+----------+------------+--------------------+--------------------+-----+-------+--------------------+-------------+------+---------+-----------------+-------------+------------------+-----------+------------+----+-------------+---------------+-----------------+------------+---------+------------------+-------------------+\n",
      "|INV-23056100024|2019-11-06|      2500.0|Hy-Vee Food Store...|  3800 W Lincoln Way| Ames|  50010|                null|         85.0| STORY|1012100.0|Canadian Whiskies|        259.0|Heaven Hill Brands|    11773.0|Black Velvet|  48|          200|           1.56|             2.34|           6|    14.04|              1.20|               0.31|\n",
      "|INV-22949500007|2019-11-01|      5694.0|      Flashmart #104|1704 S. Story Street|Boone|  50036|POINT (-93.879597...|          8.0| BOONE|1052100.0|Imported Brandies|        420.0| MOET HENNESSY USA|    48105.0| Hennessy VS|  12|          375|          10.74|            16.11|           4|    64.44|              1.50|               0.39|\n",
      "+---------------+----------+------------+--------------------+--------------------+-----+-------+--------------------+-------------+------+---------+-----------------+-------------+------------------+-----------+------------+----+-------------+---------------+-----------------+------------+---------+------------------+-------------------+\n",
      "only showing top 2 rows\n",
      "\n"
     ]
    }
   ],
   "source": [
    "#read data in; data file should not have headers\n",
    "df_spark = spark\\\n",
    "            .read\\\n",
    "            .option(\"header\",\"false\")\\\n",
    "            .schema(liquor_sales_schema)\\\n",
    "            .option(\"dateFormat\", \"dd/MM/yy\")\\\n",
    "            .csv(\"file:///home/workspace/data/liquor_sales/Iowa_Liquor_Sales_sample_noheaders.csv\")\n",
    "\n",
    "df_spark.show(2)"
   ]
  },
  {
   "cell_type": "code",
   "execution_count": 9,
   "metadata": {
    "editable": true
   },
   "outputs": [
    {
     "name": "stdout",
     "output_type": "stream",
     "text": [
      "+---------------+----------+------------+--------------------+--------------------+-----+-------+--------------------+-------------+------+---------+-----------------+-------------+------------------+-----------+------------+----+-------------+---------------+-----------------+------------+---------+------------------+-------------------+---------+----------+\n",
      "| invoice_number|sales_date|store_number|          store_name|             address| city|zipcode|      store_location|county_number|county| category|    category_name|vendor_number|       vendor_name|item_number| description|pack|bottle_volume|item_cost_price|item_retail_price|bottles_sold|sales_usd|volume_sold_litres|volume_sold_gallons| latitude| longitude|\n",
      "+---------------+----------+------------+--------------------+--------------------+-----+-------+--------------------+-------------+------+---------+-----------------+-------------+------------------+-----------+------------+----+-------------+---------------+-----------------+------------+---------+------------------+-------------------+---------+----------+\n",
      "|INV-23056100024|2019-11-06|      2500.0|Hy-Vee Food Store...|  3800 W Lincoln Way| Ames|  50010|                null|         85.0| STORY|1012100.0|Canadian Whiskies|        259.0|Heaven Hill Brands|    11773.0|Black Velvet|  48|          200|           1.56|             2.34|           6|    14.04|              1.20|               0.31|     null|      null|\n",
      "|INV-22949500007|2019-11-01|      5694.0|      Flashmart #104|1704 S. Story Street|Boone|  50036|POINT (-93.879597...|          8.0| BOONE|1052100.0|Imported Brandies|        420.0| MOET HENNESSY USA|    48105.0| Hennessy VS|  12|          375|          10.74|            16.11|           4|    64.44|              1.50|               0.39|42.037102|-93.879597|\n",
      "+---------------+----------+------------+--------------------+--------------------+-----+-------+--------------------+-------------+------+---------+-----------------+-------------+------------------+-----------+------------+----+-------------+---------------+-----------------+------------+---------+------------------+-------------------+---------+----------+\n",
      "only showing top 2 rows\n",
      "\n"
     ]
    }
   ],
   "source": [
    "# split Store Location into latitude and logitude\n",
    "split_col = func.split(df_spark['store_location'], \" \")\n",
    "df_spark = df_spark.withColumn('latitude', func.regexp_replace(split_col.getItem(2), \"\\)\", ''))\n",
    "df_spark = df_spark.withColumn('longitude', func.regexp_replace(split_col.getItem(1), \"\\(\", ''))\n",
    "df_spark.show(2)"
   ]
  },
  {
   "cell_type": "code",
   "execution_count": 10,
   "metadata": {
    "editable": true
   },
   "outputs": [],
   "source": [
    "#fix values in categorical name field\n",
    "df_spark = df_spark.withColumn('category_name', \n",
    "                               func.when(df_spark['category_name'] == \"Cocktails /RTD\" , \"Cocktails / RTD\")\n",
    "                               .when(df_spark['category_name'] == \"American Cordials & Liqueur\" , \"American Cordials & Liqueurs\")\n",
    "                               .when(df_spark['category_name'] == \"American Vodkas\" , \"American Vodka\")\n",
    "                               .when(df_spark['category_name'] == \"Imported Cordials & Liqueur\" , \"Imported Cordials & Liqueurs\")\n",
    "                               .when(df_spark['category_name'] == \"Imported Distilled Spirits Specialty\" , \"Imported Distilled Spirit Specialty\")\n",
    "                               .when(df_spark['category_name'] == \"Imported Vodkas\" , \"Imported Vodka\")\n",
    "                               .when(df_spark['category_name'] == \"Temporary &  Specialty Packages\" , \"Temporary & Specialty Packages\")\n",
    "                               .otherwise(df_spark['category_name']))\n",
    "\n",
    "#convert county into proper case\n",
    "df_spark = df_spark.withColumn('county', func.initcap('county'))"
   ]
  },
  {
   "cell_type": "markdown",
   "metadata": {
    "editable": true
   },
   "source": [
    "#### 2. Cleanse Holidays Dataset"
   ]
  },
  {
   "cell_type": "code",
   "execution_count": 11,
   "metadata": {
    "editable": true
   },
   "outputs": [
    {
     "name": "stdout",
     "output_type": "stream",
     "text": [
      "root\n",
      " |-- Date: string (nullable = true)\n",
      " |-- Holiday: string (nullable = true)\n",
      "\n",
      "+--------+--------------------+\n",
      "|    Date|             Holiday|\n",
      "+--------+--------------------+\n",
      "|31/12/10|      New Year's Day|\n",
      "| 17/1/11|Birthday of Marti...|\n",
      "+--------+--------------------+\n",
      "only showing top 2 rows\n",
      "\n"
     ]
    }
   ],
   "source": [
    "#read data in\n",
    "df_holidays_spark = spark.read\\\n",
    "                    .option(\"multiline\",\"true\")\\\n",
    "                    .json(\"file:///home/workspace/data/holidays/usholidays.json\")\n",
    "\n",
    "df_holidays_spark.printSchema()\n",
    "df_holidays_spark.show(2)"
   ]
  },
  {
   "cell_type": "code",
   "execution_count": 12,
   "metadata": {
    "editable": true
   },
   "outputs": [
    {
     "name": "stdout",
     "output_type": "stream",
     "text": [
      "+----------+--------------------+\n",
      "|      Date|             Holiday|\n",
      "+----------+--------------------+\n",
      "|2010-12-31|      New Year's Day|\n",
      "|2011-01-17|Birthday of Marti...|\n",
      "+----------+--------------------+\n",
      "only showing top 2 rows\n",
      "\n"
     ]
    }
   ],
   "source": [
    "#cast Date field as date format\n",
    "df_holidays_spark = df_holidays_spark.withColumn(\"Date\", func.to_date(\"Date\", \"dd/MM/yy\"))\n",
    "df_holidays_spark.show(2)"
   ]
  },
  {
   "cell_type": "code",
   "execution_count": 13,
   "metadata": {
    "editable": true
   },
   "outputs": [
    {
     "name": "stdout",
     "output_type": "stream",
     "text": [
      "root\n",
      " |-- date: date (nullable = true)\n",
      " |-- holiday_name: string (nullable = true)\n",
      "\n"
     ]
    }
   ],
   "source": [
    "#rename columns to lowercase\n",
    "df_holidays_spark = df_holidays_spark.withColumnRenamed('Date','date')\n",
    "df_holidays_spark = df_holidays_spark.withColumnRenamed('Holiday','holiday_name')\n",
    "df_holidays_spark.printSchema()"
   ]
  },
  {
   "cell_type": "markdown",
   "metadata": {
    "editable": true
   },
   "source": [
    "#### 3. Cleanse Weather Dataset"
   ]
  },
  {
   "cell_type": "code",
   "execution_count": 14,
   "metadata": {
    "editable": true
   },
   "outputs": [
    {
     "name": "stdout",
     "output_type": "stream",
     "text": [
      "root\n",
      " |-- County: string (nullable = true)\n",
      " |-- State: string (nullable = true)\n",
      " |-- Average Temperature: double (nullable = true)\n",
      " |-- Latitude (generated): double (nullable = true)\n",
      " |-- Longitude (generated): double (nullable = true)\n",
      " |-- Year: integer (nullable = true)\n",
      " |-- Month: integer (nullable = true)\n",
      "\n",
      "+----------+-----+-------------------+--------------------+---------------------+----+-----+\n",
      "|    County|State|Average Temperature|Latitude (generated)|Longitude (generated)|Year|Month|\n",
      "+----------+-----+-------------------+--------------------+---------------------+----+-----+\n",
      "|    Wright| Iowa|              46.68|             42.7343|             -93.7351|2019|   10|\n",
      "|     Worth| Iowa|              43.18|             43.3787|             -93.2608|2019|   10|\n",
      "|  Woodbury| Iowa|              47.18|             42.3866|             -96.0407|2019|   10|\n",
      "|Winneshiek| Iowa|              48.65|             43.2932|             -91.8426|2019|   10|\n",
      "| Winnebago| Iowa|              44.55|             43.3803|             -93.7342|2019|   10|\n",
      "+----------+-----+-------------------+--------------------+---------------------+----+-----+\n",
      "only showing top 5 rows\n",
      "\n"
     ]
    }
   ],
   "source": [
    "#read data in\n",
    "df_weather_spark = spark.read\\\n",
    "                    .option(\"header\",\"true\")\\\n",
    "                    .option(\"inferSchema\", \"true\")\\\n",
    "                    .csv(\"file:///home/workspace/data/weather\")\n",
    "\n",
    "df_weather_spark.printSchema()\n",
    "df_weather_spark.show(5)"
   ]
  },
  {
   "cell_type": "code",
   "execution_count": 15,
   "metadata": {
    "editable": true
   },
   "outputs": [
    {
     "name": "stdout",
     "output_type": "stream",
     "text": [
      "root\n",
      " |-- county: string (nullable = true)\n",
      " |-- state: string (nullable = true)\n",
      " |-- climate_temp: double (nullable = true)\n",
      " |-- latitude_generated: double (nullable = true)\n",
      " |-- longitude_generated: double (nullable = true)\n",
      " |-- year: integer (nullable = true)\n",
      " |-- month: integer (nullable = true)\n",
      "\n"
     ]
    }
   ],
   "source": [
    "#rename columns\n",
    "df_weather_spark = df_weather_spark.withColumnRenamed('County','county')\n",
    "df_weather_spark = df_weather_spark.withColumnRenamed('State','state')\n",
    "df_weather_spark = df_weather_spark.withColumnRenamed('Average Temperature','climate_temp')\n",
    "df_weather_spark = df_weather_spark.withColumnRenamed('Latitude (generated)','latitude_generated')\n",
    "df_weather_spark = df_weather_spark.withColumnRenamed('Longitude (generated)','longitude_generated')\n",
    "df_weather_spark = df_weather_spark.withColumnRenamed('Year','year')\n",
    "df_weather_spark = df_weather_spark.withColumnRenamed('Month','month')\n",
    "\n",
    "df_weather_spark.printSchema()"
   ]
  },
  {
   "cell_type": "markdown",
   "metadata": {
    "editable": true
   },
   "source": [
    "#### 4. Transformations into Fact and Dimension Table"
   ]
  },
  {
   "cell_type": "code",
   "execution_count": 16,
   "metadata": {
    "editable": true
   },
   "outputs": [
    {
     "name": "stdout",
     "output_type": "stream",
     "text": [
      "items\n",
      "+-----------+-------------------+------------------+-------------+----+\n",
      "|item_number|        description|     category_name|bottle_volume|pack|\n",
      "+-----------+-------------------+------------------+-------------+----+\n",
      "|    88602.0|Solana Agave Blanco|100% Agave Tequila|          750|   6|\n",
      "|    43036.0|       Bacardi Gold|          Gold Rum|          750|  12|\n",
      "+-----------+-------------------+------------------+-------------+----+\n",
      "only showing top 2 rows\n",
      "\n",
      "vendors\n",
      "+-------------+--------------------+\n",
      "|vendor_number|         vendor_name|\n",
      "+-------------+--------------------+\n",
      "|        971.0|Hood River Distil...|\n",
      "|        395.0|             PROXIMO|\n",
      "+-------------+--------------------+\n",
      "only showing top 2 rows\n",
      "\n",
      "counties\n",
      "+-------------+-------+\n",
      "|county_number| county|\n",
      "+-------------+-------+\n",
      "|         71.0| Obrien|\n",
      "|         13.0|Calhoun|\n",
      "+-------------+-------+\n",
      "only showing top 2 rows\n",
      "\n",
      "stores\n",
      "+------------+--------------------+--------------------+------+-------+---------+---------+\n",
      "|store_number|          store_name|             address|  city|zipcode| latitude|longitude|\n",
      "+------------+--------------------+--------------------+------+-------+---------+---------+\n",
      "|      5322.0|     Avoca Food Land|   212 West Wood St.| Avoca|  51521|41.487428|-95.33778|\n",
      "|      4013.0|Wal-Mart 0841 / T...|1126 Highway 38 N...|Tipton|  52772|41.438006|-91.03069|\n",
      "+------------+--------------------+--------------------+------+-------+---------+---------+\n",
      "only showing top 2 rows\n",
      "\n",
      "time\n",
      "+----------+---+----+-----+----+-------+----------+------------+\n",
      "|sales_date|day|week|month|year|weekday|is_holiday|holiday_name|\n",
      "+----------+---+----+-----+----+-------+----------+------------+\n",
      "|2019-11-11| 11|  46|   11|2019|      2|      true|Veterans Day|\n",
      "+----------+---+----+-----+----+-------+----------+------------+\n",
      "\n",
      "liquor_sales\n",
      "+---------------+----------+------------+-------------+-----------+-------------+------------+------------------+---------------+-----------------+---------+------------+\n",
      "| invoice_number|sales_date|store_number|county_number|item_number|vendor_number|bottles_sold|volume_sold_litres|item_cost_price|item_retail_price|sales_usd|climate_temp|\n",
      "+---------------+----------+------------+-------------+-----------+-------------+------------+------------------+---------------+-----------------+---------+------------+\n",
      "|INV-23056100024|2019-11-06|      2500.0|         85.0|    11773.0|        259.0|           6|              1.20|           1.56|             2.34|    14.04|       31.65|\n",
      "|INV-22949500007|2019-11-01|      5694.0|          8.0|    48105.0|        420.0|           4|              1.50|          10.74|            16.11|    64.44|       30.32|\n",
      "+---------------+----------+------------+-------------+-----------+-------------+------------+------------------+---------------+-----------------+---------+------------+\n",
      "only showing top 2 rows\n",
      "\n"
     ]
    }
   ],
   "source": [
    "df_spark.createOrReplaceTempView(\"df_spark\")\n",
    "df_holidays_spark.createOrReplaceTempView(\"df_holidays_spark\")\n",
    "df_weather_spark.createOrReplaceTempView(\"df_weather_spark\")\n",
    "\n",
    "#items dimension table\n",
    "items = spark.sql(\"\"\"\n",
    "    SELECT DISTINCT\n",
    "            item_number,\n",
    "            description,\n",
    "            category_name,\n",
    "            bottle_volume,\n",
    "            pack\n",
    "    FROM df_spark\n",
    "\"\"\")\n",
    "\n",
    "print(\"items\")\n",
    "items.show(2)\n",
    "\n",
    "#vendors dimension table\n",
    "vendors = spark.sql(\"\"\"\n",
    "    SELECT DISTINCT\n",
    "            vendor_number,\n",
    "            vendor_name\n",
    "    FROM df_spark\n",
    "\"\"\")\n",
    "\n",
    "print(\"vendors\")\n",
    "vendors.show(2)\n",
    "\n",
    "#counties dimension table\n",
    "counties = spark.sql(\"\"\"\n",
    "    SELECT DISTINCT\n",
    "            county_number,\n",
    "            county\n",
    "    FROM df_spark\n",
    "\"\"\")\n",
    "\n",
    "print(\"counties\")\n",
    "counties.show(2)\n",
    "\n",
    "#stores dimension table\n",
    "stores = spark.sql(\"\"\"\n",
    "    SELECT DISTINCT\n",
    "            store_number,\n",
    "            store_name,\n",
    "            address,\n",
    "            city,\n",
    "            zipcode,\n",
    "            latitude,\n",
    "            longitude\n",
    "    FROM df_spark\n",
    "\"\"\")\n",
    "\n",
    "print(\"stores\")\n",
    "stores.show(2)\n",
    "\n",
    "#time dimension table\n",
    "time = spark.sql(\"\"\"\n",
    "    SELECT DISTINCT\n",
    "            sales.sales_date,\n",
    "            day(sales.sales_date) as day,\n",
    "            weekofyear(sales.sales_date) as week,\n",
    "            month(sales.sales_date) as month,\n",
    "            year(sales.sales_date) as year,\n",
    "            dayofweek(sales.sales_date) as weekday,\n",
    "            case\n",
    "                when holidays.holiday_name is null then False\n",
    "                else True\n",
    "            end as is_holiday,\n",
    "            holidays.holiday_name\n",
    "    FROM df_spark sales\n",
    "    LEFT JOIN df_holidays_spark holidays\n",
    "    ON sales.sales_date = holidays.date\n",
    "\"\"\")\n",
    "\n",
    "print(\"time\")\n",
    "time.where(\"is_holiday = True\").show(5)\n",
    "\n",
    "#liquor_sales fact table\n",
    "liquor_sales = spark.sql(\"\"\"\n",
    "    SELECT\n",
    "            sales.invoice_number,\n",
    "            sales.sales_date,\n",
    "            sales.store_number,\n",
    "            sales.county_number,\n",
    "            sales.item_number,\n",
    "            sales.vendor_number,\n",
    "            sales.bottles_sold,\n",
    "            sales.volume_sold_litres,\n",
    "            sales.item_cost_price,\n",
    "            sales.item_retail_price,\n",
    "            sales.sales_usd,\n",
    "            weather.climate_temp\n",
    "    FROM df_spark sales\n",
    "    LEFT JOIN df_weather_spark weather\n",
    "    ON year(sales.sales_date) = weather.year\n",
    "    AND month(sales.sales_date) = weather.month\n",
    "    AND sales.county = weather.county\n",
    "\"\"\")\n",
    "\n",
    "print(\"liquor_sales\")\n",
    "liquor_sales.show(2)"
   ]
  },
  {
   "cell_type": "markdown",
   "metadata": {
    "editable": true
   },
   "source": [
    "#### 5. Data Quality Checks"
   ]
  },
  {
   "cell_type": "markdown",
   "metadata": {
    "editable": true
   },
   "source": [
    "##### a. Count Check"
   ]
  },
  {
   "cell_type": "code",
   "execution_count": 98,
   "metadata": {
    "editable": true
   },
   "outputs": [
    {
     "name": "stdout",
     "output_type": "stream",
     "text": [
      "No issues with count checks\n"
     ]
    }
   ],
   "source": [
    "list_of_errors = []\n",
    "\n",
    "if items.count() < 1:\n",
    "    list_of_errors.append(\"items table count has no records\")\n",
    "if vendors.count() < 1:\n",
    "    list_of_errors.append(\"vendors table count has no records\")\n",
    "if counties.count() < 1:\n",
    "    list_of_errors.append(\"counties table count has no records\")\n",
    "if stores.count() < 1:\n",
    "    list_of_errors.append(\"stores table count has no records\")\n",
    "if time.count() < 1:\n",
    "    list_of_errors.append(\"time table count has no records\")\n",
    "if liquor_sales.count() < 1:\n",
    "    list_of_errors.append(\"liquor_sales table count has no records\")\n",
    "    \n",
    "if len(list_of_errors) >= 1:\n",
    "    for error in list_of_errors:\n",
    "        print(error)\n",
    "else:\n",
    "    print(\"No issues with count checks\")"
   ]
  },
  {
   "cell_type": "markdown",
   "metadata": {
    "editable": true
   },
   "source": [
    "##### b. Null checks"
   ]
  },
  {
   "cell_type": "code",
   "execution_count": 99,
   "metadata": {
    "editable": true
   },
   "outputs": [
    {
     "name": "stdout",
     "output_type": "stream",
     "text": [
      "No issues with null checks\n"
     ]
    }
   ],
   "source": [
    "list_of_errors = []\n",
    "\n",
    "if liquor_sales.where(\"invoice_number is null\").count() > 0:\n",
    "    list_of_errors.append(\"null records detected in invoice_number field of liquor_sales table\")\n",
    "\n",
    "if len(list_of_errors) >= 1:\n",
    "    for error in list_of_errors:\n",
    "        print(error)\n",
    "else:\n",
    "    print(\"No issues with null checks\")"
   ]
  },
  {
   "cell_type": "markdown",
   "metadata": {
    "editable": true
   },
   "source": [
    "----------"
   ]
  },
  {
   "cell_type": "markdown",
   "metadata": {
    "editable": true
   },
   "source": [
    "### Sample Queries and Results"
   ]
  },
  {
   "cell_type": "markdown",
   "metadata": {
    "editable": true
   },
   "source": [
    "**Which liquor items are most popular (by number of bottles sold)**"
   ]
  },
  {
   "cell_type": "code",
   "execution_count": 100,
   "metadata": {
    "editable": true
   },
   "outputs": [
    {
     "name": "stdout",
     "output_type": "stream",
     "text": [
      "+------------------------------+------------------+\n",
      "|description                   |total_bottles_sold|\n",
      "+------------------------------+------------------+\n",
      "|Fireball Cinnamon Whiskey     |339978            |\n",
      "|Black Velvet                  |167793            |\n",
      "|Titos Handmade Vodka          |128591            |\n",
      "|Hawkeye Vodka                 |100932            |\n",
      "|Captain Morgan Original Spiced|89291             |\n",
      "+------------------------------+------------------+\n",
      "only showing top 5 rows\n",
      "\n"
     ]
    }
   ],
   "source": [
    "items.createOrReplaceTempView(\"items\")\n",
    "liquor_sales.createOrReplaceTempView(\"liquor_sales\")\n",
    "\n",
    "spark.sql(\"\"\"\n",
    "    SELECT \n",
    "        items.description,\n",
    "        sum(liquor_sales.bottles_sold) as total_bottles_sold\n",
    "    FROM liquor_sales LEFT JOIN items\n",
    "    ON liquor_sales.item_number = items.item_number\n",
    "    GROUP BY items.description\n",
    "    ORDER BY total_bottles_sold desc\n",
    "\"\"\").show(5, truncate=False)"
   ]
  },
  {
   "cell_type": "markdown",
   "metadata": {
    "editable": true
   },
   "source": [
    "**Which county has stores which spend the most on liquor purchases**"
   ]
  },
  {
   "cell_type": "code",
   "execution_count": 101,
   "metadata": {
    "editable": true
   },
   "outputs": [
    {
     "name": "stdout",
     "output_type": "stream",
     "text": [
      "+----------+-----------+\n",
      "|county    |total_spend|\n",
      "+----------+-----------+\n",
      "|Polk      |10866959.85|\n",
      "|Linn      |4461406.27 |\n",
      "|Scott     |3497930.90 |\n",
      "|Johnson   |3036210.04 |\n",
      "|Black Hawk|2791777.42 |\n",
      "+----------+-----------+\n",
      "only showing top 5 rows\n",
      "\n"
     ]
    }
   ],
   "source": [
    "counties.createOrReplaceTempView(\"counties\")\n",
    "liquor_sales.createOrReplaceTempView(\"liquor_sales\")\n",
    "\n",
    "spark.sql(\"\"\"\n",
    "    SELECT\n",
    "        counties.county,\n",
    "        sum(liquor_sales.sales_usd) as total_spend\n",
    "    FROM liquor_sales LEFT JOIN counties\n",
    "    ON liquor_sales.county_number = counties.county_number\n",
    "    GROUP BY county\n",
    "    ORDER BY total_spend desc\n",
    "\"\"\").show(5, truncate=False)"
   ]
  },
  {
   "cell_type": "code",
   "execution_count": 23,
   "metadata": {
    "editable": true
   },
   "outputs": [],
   "source": [
    "#stop spark session\n",
    "spark.stop()"
   ]
  }
 ],
 "metadata": {
  "kernelspec": {
   "display_name": "Python 3",
   "language": "python",
   "name": "python3"
  },
  "language_info": {
   "codemirror_mode": {
    "name": "ipython",
    "version": 3
   },
   "file_extension": ".py",
   "mimetype": "text/x-python",
   "name": "python",
   "nbconvert_exporter": "python",
   "pygments_lexer": "ipython3",
   "version": "3.6.3"
  }
 },
 "nbformat": 4,
 "nbformat_minor": 4
}
